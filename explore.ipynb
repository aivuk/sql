{
 "cells": [
  {
   "cell_type": "markdown",
   "metadata": {},
   "source": [
    "# Accessing a database using Python"
   ]
  },
  {
   "cell_type": "code",
   "execution_count": 1,
   "metadata": {},
   "outputs": [],
   "source": [
    "# SQLITE3 \n",
    "\n",
    "import sqlite3"
   ]
  },
  {
   "cell_type": "code",
   "execution_count": 2,
   "metadata": {},
   "outputs": [],
   "source": [
    "con = sqlite3.connect('classDatabase.db')"
   ]
  },
  {
   "cell_type": "code",
   "execution_count": 3,
   "metadata": {},
   "outputs": [
    {
     "data": {
      "text/plain": [
       "<sqlite3.Cursor at 0x7fb21c478dc0>"
      ]
     },
     "execution_count": 3,
     "metadata": {},
     "output_type": "execute_result"
    }
   ],
   "source": [
    "con.execute(\"\"\" \n",
    "            \n",
    "  create table books (\n",
    "        book_id int unique primary key not null,\n",
    "        title text,\n",
    "        author text,\n",
    "        pages int,\n",
    "        rating float\n",
    "  )\n",
    "            \n",
    "\"\"\")"
   ]
  },
  {
   "cell_type": "code",
   "execution_count": 12,
   "metadata": {},
   "outputs": [
    {
     "data": {
      "text/plain": [
       "<sqlite3.Cursor at 0x7fb20cfec8c0>"
      ]
     },
     "execution_count": 12,
     "metadata": {},
     "output_type": "execute_result"
    }
   ],
   "source": [
    "con.execute(\"\"\" \n",
    "\n",
    "insert into books ( book_id, title, author, pages, rating) values ( 5, \"Bloody Meridian\", \"Cormac McCarthy\", 200, 9.5) \n",
    "\n",
    "\"\"\")"
   ]
  },
  {
   "cell_type": "code",
   "execution_count": 13,
   "metadata": {},
   "outputs": [],
   "source": [
    "cur = con.execute(\"\"\"\n",
    "\n",
    "select book_id, title from books\n",
    "\n",
    "            \"\"\")"
   ]
  },
  {
   "cell_type": "code",
   "execution_count": 14,
   "metadata": {},
   "outputs": [
    {
     "name": "stdout",
     "output_type": "stream",
     "text": [
      "(1, 'Bloody Meridian')\n",
      "(2, 'Bloody Meridian')\n",
      "(3, 'Bloody Meridian')\n",
      "(4, 'Bloody Meridian')\n",
      "(5, 'Bloody Meridian')\n"
     ]
    }
   ],
   "source": [
    "for row in cur:\n",
    "    print(row)\n",
    "    "
   ]
  },
  {
   "cell_type": "code",
   "execution_count": 16,
   "metadata": {},
   "outputs": [],
   "source": [
    "anything = con.execute(\"\"\"\n",
    "\n",
    "select * from books\n",
    "\n",
    "            \"\"\")"
   ]
  },
  {
   "cell_type": "code",
   "execution_count": 17,
   "metadata": {},
   "outputs": [
    {
     "name": "stdout",
     "output_type": "stream",
     "text": [
      "(1, 'Bloody Meridian', 'Cormac McCarthy', 200, 9.5)\n",
      "(2, 'Bloody Meridian', 'Cormac McCarthy', 200, 9.5)\n",
      "(3, 'Bloody Meridian', 'Cormac McCarthy', 200, 9.5)\n",
      "(4, 'Bloody Meridian', 'Cormac McCarthy', 200, 9.5)\n",
      "(5, 'Bloody Meridian', 'Cormac McCarthy', 200, 9.5)\n"
     ]
    }
   ],
   "source": [
    "for result in anything:\n",
    "    print(result)"
   ]
  },
  {
   "cell_type": "code",
   "execution_count": 18,
   "metadata": {},
   "outputs": [],
   "source": [
    "con.commit()"
   ]
  },
  {
   "cell_type": "markdown",
   "metadata": {},
   "source": [
    "# Solution for the Project\n",
    "\n",
    "Now we use sqlalchemy to access the database.\n",
    "the `connection_string` must be something like:\n",
    "\n",
    "```\n",
    "connection_string = 'postgresql://USER:PASSWORD@DB_HOST/DB_NAME'\n",
    "```\n"
   ]
  },
  {
   "cell_type": "code",
   "execution_count": 10,
   "metadata": {},
   "outputs": [],
   "source": [
    "from sqlalchemy import create_engine\n",
    "import os\n",
    "from dotenv import load_dotenv\n",
    "\n",
    "load_dotenv()\n",
    "connection_string = f\"postgresql://{os.getenv('DB_USER')}:{os.getenv('DB_PASSWORD')}@{os.getenv('DB_HOST')}/{os.getenv('DB_NAME')}\"\n",
    "engine = create_engine(connection_string)\n",
    "con = engine.connect()\n"
   ]
  },
  {
   "cell_type": "code",
   "execution_count": 13,
   "metadata": {},
   "outputs": [
    {
     "data": {
      "text/plain": [
       "<sqlalchemy.engine.cursor.LegacyCursorResult at 0x7f14c1fdcca0>"
      ]
     },
     "execution_count": 13,
     "metadata": {},
     "output_type": "execute_result"
    }
   ],
   "source": [
    "con.execute(\"\"\"\n",
    "CREATE TABLE publishers(\n",
    "    publisher_id INT NOT NULL,\n",
    "    name VARCHAR(255) NOT NULL,\n",
    "    PRIMARY KEY(publisher_id)\n",
    ");\n",
    "\n",
    "CREATE TABLE authors(\n",
    "    author_id INT NOT NULL,\n",
    "    first_name VARCHAR(100) NOT NULL,\n",
    "    middle_name VARCHAR(50) NULL,\n",
    "    last_name VARCHAR(100) NULL,\n",
    "    PRIMARY KEY(author_id)\n",
    ");\n",
    "\n",
    "CREATE TABLE books(\n",
    "    book_id INT NOT NULL,\n",
    "    title VARCHAR(255) NOT NULL,\n",
    "    total_pages INT NULL,\n",
    "    rating DECIMAL(4, 2) NULL,\n",
    "    isbn VARCHAR(13) NULL,\n",
    "    published_date DATE,\n",
    "    publisher_id INT NULL,\n",
    "    PRIMARY KEY(book_id),\n",
    "    CONSTRAINT fk_publisher FOREIGN KEY(publisher_id) REFERENCES publishers(publisher_id)\n",
    ");\n",
    "\n",
    "CREATE TABLE book_authors (\n",
    "    book_id INT NOT NULL,\n",
    "    author_id INT NOT NULL,\n",
    "    PRIMARY KEY(book_id, author_id),\n",
    "    CONSTRAINT fk_book FOREIGN KEY(book_id) REFERENCES books(book_id) ON DELETE CASCADE,\n",
    "    CONSTRAINT fk_author FOREIGN KEY(author_id) REFERENCES authors(author_id) ON DELETE CASCADE\n",
    ");\n",
    "\"\"\")"
   ]
  },
  {
   "cell_type": "code",
   "execution_count": 14,
   "metadata": {},
   "outputs": [
    {
     "data": {
      "text/plain": [
       "<sqlalchemy.engine.cursor.LegacyCursorResult at 0x7f149e3fa170>"
      ]
     },
     "execution_count": 14,
     "metadata": {},
     "output_type": "execute_result"
    }
   ],
   "source": [
    "con.execute(\"\"\"\n",
    "INSERT INTO publishers(publisher_id, name) VALUES (1, 'O Reilly Media');\n",
    "INSERT INTO publishers(publisher_id, name) VALUES (2, 'A Book Apart');\n",
    "INSERT INTO publishers(publisher_id, name) VALUES (3, 'A K PETERS');\n",
    "INSERT INTO publishers(publisher_id, name) VALUES (4, 'Academic Press');\n",
    "INSERT INTO publishers(publisher_id, name) VALUES (5, 'Addison Wesley');\n",
    "INSERT INTO publishers(publisher_id, name) VALUES (6, 'Albert&Sweigart');\n",
    "INSERT INTO publishers(publisher_id, name) VALUES (7, 'Alfred A. Knopf');\n",
    "\n",
    "INSERT INTO authors (author_id, first_name, middle_name, last_name) VALUES (1, 'Merritt', null, 'Eric');\n",
    "INSERT INTO authors (author_id, first_name, middle_name, last_name) VALUES (2, 'Linda', null, 'Mui');\n",
    "INSERT INTO authors (author_id, first_name, middle_name, last_name) VALUES (3, 'Alecos', null, 'Papadatos');\n",
    "INSERT INTO authors (author_id, first_name, middle_name, last_name) VALUES (4, 'Anthony', null, 'Molinaro');\n",
    "INSERT INTO authors (author_id, first_name, middle_name, last_name) VALUES (5, 'David', null, 'Cronin');\n",
    "INSERT INTO authors (author_id, first_name, middle_name, last_name) VALUES (6, 'Richard', null, 'Blum');\n",
    "INSERT INTO authors (author_id, first_name, middle_name, last_name) VALUES (7, 'Yuval', 'Noah', 'Harari');\n",
    "INSERT INTO authors (author_id, first_name, middle_name, last_name) VALUES (8, 'Paul', null, 'Albitz');\n",
    "\n",
    "INSERT INTO books (book_id, title, total_pages, rating, isbn, published_date, publisher_id) VALUES (1, 'Lean Software Development: An Agile Toolkit', 240, 4.17, '9780320000000', '2003-05-18', 5);\n",
    "INSERT INTO books (book_id, title, total_pages, rating, isbn, published_date, publisher_id) VALUES (2, 'Facing the Intelligence Explosion', 91, 3.87, null, '2013-02-01', 7);\n",
    "INSERT INTO books (book_id, title, total_pages, rating, isbn, published_date, publisher_id) VALUES (3, 'Scala in Action', 419, 3.74, '9781940000000', '2013-04-10', 1);\n",
    "INSERT INTO books (book_id, title, total_pages, rating, isbn, published_date, publisher_id) VALUES (4, 'Patterns of Software: Tales from the Software Community', 256, 3.84, '9780200000000', '1996-08-15', 1);\n",
    "INSERT INTO books (book_id, title, total_pages, rating, isbn, published_date, publisher_id) VALUES (5, 'Anatomy Of LISP', 446, 4.43, '9780070000000', '1978-01-01', 3);\n",
    "INSERT INTO books (book_id, title, total_pages, rating, isbn, published_date, publisher_id) VALUES (6, 'Computing machinery and intelligence', 24, 4.17, null, '2009-03-22', 4);\n",
    "INSERT INTO books (book_id, title, total_pages, rating, isbn, published_date, publisher_id) VALUES (7, 'XML: Visual QuickStart Guide', 269, 3.66, '9780320000000', '2009-01-01', 5);\n",
    "INSERT INTO books (book_id, title, total_pages, rating, isbn, published_date, publisher_id) VALUES (8, 'SQL Cookbook', 595, 3.95, '9780600000000', '2005-12-01', 7);\n",
    "INSERT INTO books (book_id, title, total_pages, rating, isbn, published_date, publisher_id) VALUES (9, 'The Apollo Guidance Computer: Architecture And Operation (Springer Praxis Books / Space Exploration)', 439, 4.29, '9781440000000', '2010-07-01', 6);\n",
    "INSERT INTO books (book_id, title, total_pages, rating, isbn, published_date, publisher_id) VALUES (10, 'Minds and Computers: An Introduction to the Philosophy of Artificial Intelligence', 222, 3.54, '9780750000000', '2007-02-13', 7);\n",
    "\n",
    "INSERT INTO book_authors (book_id, author_id) VALUES (1, 1);\n",
    "INSERT INTO book_authors (book_id, author_id) VALUES (2, 8);\n",
    "INSERT INTO book_authors (book_id, author_id) VALUES (3, 7);\n",
    "INSERT INTO book_authors (book_id, author_id) VALUES (4, 6);\n",
    "INSERT INTO book_authors (book_id, author_id) VALUES (5, 5);\n",
    "INSERT INTO book_authors (book_id, author_id) VALUES (6, 4);\n",
    "INSERT INTO book_authors (book_id, author_id) VALUES (7, 3);\n",
    "INSERT INTO book_authors (book_id, author_id) VALUES (8, 2);\n",
    "INSERT INTO book_authors (book_id, author_id) VALUES (9, 4);\n",
    "INSERT INTO book_authors (book_id, author_id) VALUES (10, 1);\n",
    "\"\"\")"
   ]
  },
  {
   "cell_type": "code",
   "execution_count": 18,
   "metadata": {},
   "outputs": [
    {
     "data": {
      "text/html": [
       "<div>\n",
       "<style scoped>\n",
       "    .dataframe tbody tr th:only-of-type {\n",
       "        vertical-align: middle;\n",
       "    }\n",
       "\n",
       "    .dataframe tbody tr th {\n",
       "        vertical-align: top;\n",
       "    }\n",
       "\n",
       "    .dataframe thead th {\n",
       "        text-align: right;\n",
       "    }\n",
       "</style>\n",
       "<table border=\"1\" class=\"dataframe\">\n",
       "  <thead>\n",
       "    <tr style=\"text-align: right;\">\n",
       "      <th></th>\n",
       "      <th>book_id</th>\n",
       "      <th>title</th>\n",
       "      <th>total_pages</th>\n",
       "      <th>rating</th>\n",
       "      <th>isbn</th>\n",
       "      <th>published_date</th>\n",
       "      <th>publisher_id</th>\n",
       "    </tr>\n",
       "  </thead>\n",
       "  <tbody>\n",
       "    <tr>\n",
       "      <th>0</th>\n",
       "      <td>1</td>\n",
       "      <td>Lean Software Development: An Agile Toolkit</td>\n",
       "      <td>240</td>\n",
       "      <td>4.17</td>\n",
       "      <td>9780320000000</td>\n",
       "      <td>2003-05-18</td>\n",
       "      <td>5</td>\n",
       "    </tr>\n",
       "    <tr>\n",
       "      <th>1</th>\n",
       "      <td>2</td>\n",
       "      <td>Facing the Intelligence Explosion</td>\n",
       "      <td>91</td>\n",
       "      <td>3.87</td>\n",
       "      <td>None</td>\n",
       "      <td>2013-02-01</td>\n",
       "      <td>7</td>\n",
       "    </tr>\n",
       "    <tr>\n",
       "      <th>2</th>\n",
       "      <td>3</td>\n",
       "      <td>Scala in Action</td>\n",
       "      <td>419</td>\n",
       "      <td>3.74</td>\n",
       "      <td>9781940000000</td>\n",
       "      <td>2013-04-10</td>\n",
       "      <td>1</td>\n",
       "    </tr>\n",
       "    <tr>\n",
       "      <th>3</th>\n",
       "      <td>4</td>\n",
       "      <td>Patterns of Software: Tales from the Software ...</td>\n",
       "      <td>256</td>\n",
       "      <td>3.84</td>\n",
       "      <td>9780200000000</td>\n",
       "      <td>1996-08-15</td>\n",
       "      <td>1</td>\n",
       "    </tr>\n",
       "    <tr>\n",
       "      <th>4</th>\n",
       "      <td>5</td>\n",
       "      <td>Anatomy Of LISP</td>\n",
       "      <td>446</td>\n",
       "      <td>4.43</td>\n",
       "      <td>9780070000000</td>\n",
       "      <td>1978-01-01</td>\n",
       "      <td>3</td>\n",
       "    </tr>\n",
       "    <tr>\n",
       "      <th>5</th>\n",
       "      <td>6</td>\n",
       "      <td>Computing machinery and intelligence</td>\n",
       "      <td>24</td>\n",
       "      <td>4.17</td>\n",
       "      <td>None</td>\n",
       "      <td>2009-03-22</td>\n",
       "      <td>4</td>\n",
       "    </tr>\n",
       "    <tr>\n",
       "      <th>6</th>\n",
       "      <td>7</td>\n",
       "      <td>XML: Visual QuickStart Guide</td>\n",
       "      <td>269</td>\n",
       "      <td>3.66</td>\n",
       "      <td>9780320000000</td>\n",
       "      <td>2009-01-01</td>\n",
       "      <td>5</td>\n",
       "    </tr>\n",
       "    <tr>\n",
       "      <th>7</th>\n",
       "      <td>8</td>\n",
       "      <td>SQL Cookbook</td>\n",
       "      <td>595</td>\n",
       "      <td>3.95</td>\n",
       "      <td>9780600000000</td>\n",
       "      <td>2005-12-01</td>\n",
       "      <td>7</td>\n",
       "    </tr>\n",
       "    <tr>\n",
       "      <th>8</th>\n",
       "      <td>9</td>\n",
       "      <td>The Apollo Guidance Computer: Architecture And...</td>\n",
       "      <td>439</td>\n",
       "      <td>4.29</td>\n",
       "      <td>9781440000000</td>\n",
       "      <td>2010-07-01</td>\n",
       "      <td>6</td>\n",
       "    </tr>\n",
       "    <tr>\n",
       "      <th>9</th>\n",
       "      <td>10</td>\n",
       "      <td>Minds and Computers: An Introduction to the Ph...</td>\n",
       "      <td>222</td>\n",
       "      <td>3.54</td>\n",
       "      <td>9780750000000</td>\n",
       "      <td>2007-02-13</td>\n",
       "      <td>7</td>\n",
       "    </tr>\n",
       "  </tbody>\n",
       "</table>\n",
       "</div>"
      ],
      "text/plain": [
       "   book_id                                              title  total_pages  \\\n",
       "0        1        Lean Software Development: An Agile Toolkit          240   \n",
       "1        2                  Facing the Intelligence Explosion           91   \n",
       "2        3                                    Scala in Action          419   \n",
       "3        4  Patterns of Software: Tales from the Software ...          256   \n",
       "4        5                                    Anatomy Of LISP          446   \n",
       "5        6               Computing machinery and intelligence           24   \n",
       "6        7                       XML: Visual QuickStart Guide          269   \n",
       "7        8                                       SQL Cookbook          595   \n",
       "8        9  The Apollo Guidance Computer: Architecture And...          439   \n",
       "9       10  Minds and Computers: An Introduction to the Ph...          222   \n",
       "\n",
       "   rating           isbn published_date  publisher_id  \n",
       "0    4.17  9780320000000     2003-05-18             5  \n",
       "1    3.87           None     2013-02-01             7  \n",
       "2    3.74  9781940000000     2013-04-10             1  \n",
       "3    3.84  9780200000000     1996-08-15             1  \n",
       "4    4.43  9780070000000     1978-01-01             3  \n",
       "5    4.17           None     2009-03-22             4  \n",
       "6    3.66  9780320000000     2009-01-01             5  \n",
       "7    3.95  9780600000000     2005-12-01             7  \n",
       "8    4.29  9781440000000     2010-07-01             6  \n",
       "9    3.54  9780750000000     2007-02-13             7  "
      ]
     },
     "execution_count": 18,
     "metadata": {},
     "output_type": "execute_result"
    }
   ],
   "source": [
    "import pandas as pd\n",
    "\n",
    "data = pd.read_sql(\"SELECT * FROM books\", con)\n",
    "data"
   ]
  },
  {
   "cell_type": "code",
   "execution_count": null,
   "metadata": {},
   "outputs": [],
   "source": []
  }
 ],
 "metadata": {
  "kernelspec": {
   "display_name": "Python 3",
   "language": "python",
   "name": "python3"
  },
  "language_info": {
   "codemirror_mode": {
    "name": "ipython",
    "version": 3
   },
   "file_extension": ".py",
   "mimetype": "text/x-python",
   "name": "python",
   "nbconvert_exporter": "python",
   "pygments_lexer": "ipython3",
   "version": "3.10.12"
  }
 },
 "nbformat": 4,
 "nbformat_minor": 2
}
